{
  "nbformat": 4,
  "nbformat_minor": 0,
  "metadata": {
    "colab": {
      "provenance": [],
      "authorship_tag": "ABX9TyN1+TYH7bUHRqGQ6phbFK2h",
      "include_colab_link": true
    },
    "kernelspec": {
      "name": "python3",
      "display_name": "Python 3"
    },
    "language_info": {
      "name": "python"
    }
  },
  "cells": [
    {
      "cell_type": "markdown",
      "metadata": {
        "id": "view-in-github",
        "colab_type": "text"
      },
      "source": [
        "<a href=\"https://colab.research.google.com/github/Amr0093/Amr0093/blob/main/Digit_Recognizer.ipynb\" target=\"_parent\"><img src=\"https://colab.research.google.com/assets/colab-badge.svg\" alt=\"Open In Colab\"/></a>"
      ]
    },
    {
      "cell_type": "markdown",
      "source": [
        "## Thanks to Yassine Ghouzam -- Kaggle Expert \n",
        "https://www.kaggle.com/code/yassineghouzam/introduction-to-cnn-keras-0-997-top-6"
      ],
      "metadata": {
        "id": "R8pNN5aWK3xT"
      }
    },
    {
      "cell_type": "markdown",
      "source": [
        "For the Explanation: thanks to Udacity youtube viseos"
      ],
      "metadata": {
        "id": "FC43Z-NfaX5v"
      }
    },
    {
      "cell_type": "markdown",
      "source": [
        "# Import the Data set from Kaggle"
      ],
      "metadata": {
        "id": "ly4xmsCeK5bG"
      }
    },
    {
      "cell_type": "code",
      "execution_count": null,
      "metadata": {
        "colab": {
          "base_uri": "https://localhost:8080/"
        },
        "id": "jWu5Pvv7KXv-",
        "outputId": "20e3b11c-2444-4bd4-90ec-10c85ab0180a"
      },
      "outputs": [
        {
          "output_type": "stream",
          "name": "stdout",
          "text": [
            "Downloading digit-recognizer.zip to /content/sample_data/Minst_Competition\n",
            "\r  0% 0.00/15.3M [00:00<?, ?B/s]\r 52% 8.00M/15.3M [00:00<00:00, 80.8MB/s]\n",
            "\r100% 15.3M/15.3M [00:00<00:00, 121MB/s] \n"
          ]
        }
      ],
      "source": [
        "import os\n",
        "user = 'amrahmed93'\n",
        "key = 'e046f1a9930f5caf3b73e3d4c96317b2'\n",
        "if '.kaggle' not in os.listdir('/root'):\n",
        "    !mkdir ~/.kaggle\n",
        "!touch /root/.kaggle/kaggle.json\n",
        "!chmod 666 /root/.kaggle/kaggle.json\n",
        "with open('/root/.kaggle/kaggle.json', 'w') as f:\n",
        "    f.write('{\"username\":\"%s\",\"key\":\"%s\"}' % (user, key))\n",
        "!chmod 600 /root/.kaggle/kaggle.json\n",
        "!kaggle competitions download -c digit-recognizer -p /content/sample_data/Minst_Competition"
      ]
    },
    {
      "cell_type": "markdown",
      "source": [
        "## Unzip the Extracted file "
      ],
      "metadata": {
        "id": "AXKqH4zqM1Fs"
      }
    },
    {
      "cell_type": "code",
      "source": [
        "!unzip /content/sample_data/Minst_Competition/digit-recognizer.zip -d /content/sample_data/Minst_Competition"
      ],
      "metadata": {
        "colab": {
          "base_uri": "https://localhost:8080/"
        },
        "id": "-cMvQXZeLMDx",
        "outputId": "8c2ae594-94f3-45cc-e2b5-1e0f0a232494"
      },
      "execution_count": null,
      "outputs": [
        {
          "output_type": "stream",
          "name": "stdout",
          "text": [
            "Archive:  /content/sample_data/Minst_Competition/digit-recognizer.zip\n",
            "  inflating: /content/sample_data/Minst_Competition/sample_submission.csv  \n",
            "  inflating: /content/sample_data/Minst_Competition/test.csv  \n",
            "  inflating: /content/sample_data/Minst_Competition/train.csv  \n"
          ]
        }
      ]
    },
    {
      "cell_type": "markdown",
      "source": [
        "1. Introduction\n",
        "2. Data preparation\n",
        "2.1 Load data\n",
        "2.2 Check for null and missing values\n",
        "2.3 Normalization\n",
        "2.4 Reshape\n",
        "2.5 Label encoding\n",
        "2.6 Split training and valdiation set\n",
        "3. CNN\n",
        "3.1 Define the model\n",
        "3.2 Set the optimizer and annealer\n",
        "3.3 Data augmentation\n",
        "4. Evaluate the model\n",
        "4.1 Training and validation curves\n",
        "4.2 Confusion matrix\n",
        "5. Prediction and submition\n",
        "5.1 Predict and Submit results"
      ],
      "metadata": {
        "id": "q7uSDgU-NL3V"
      }
    },
    {
      "cell_type": "code",
      "source": [
        "import pandas as pd\n",
        "import numpy as np\n",
        "import matplotlib.pyplot as plt\n",
        "import matplotlib.image as mpimg\n",
        "import seaborn as sns\n",
        "%matplotlib inline\n",
        "\n",
        "np.random.seed(2)\n",
        "\n",
        "import keras\n",
        "from sklearn.model_selection import train_test_split\n",
        "from sklearn.metrics import confusion_matrix\n",
        "import itertools\n",
        "\n",
        "from keras.utils.np_utils import to_categorical # convert to one-hot-encoding\n",
        "from keras.models import Sequential\n",
        "from keras.layers import Dense, Dropout, Flatten, Conv2D, MaxPool2D\n",
        "# from keras.optimizers import RMSprop\n",
        "from tensorflow.keras.optimizers import RMSprop\n",
        "from keras.preprocessing.image import ImageDataGenerator\n",
        "from keras.callbacks import ReduceLROnPlateau\n",
        "\n",
        "\n",
        "sns.set(style='white', context='notebook', palette='deep')"
      ],
      "metadata": {
        "id": "WAFANYq-Mvhm"
      },
      "execution_count": null,
      "outputs": []
    },
    {
      "cell_type": "markdown",
      "source": [
        "### Load data"
      ],
      "metadata": {
        "id": "sB5H5nRCXMNu"
      }
    },
    {
      "cell_type": "code",
      "source": [
        "# Load the data\n",
        "train = pd.read_csv(\"/content/sample_data/Minst_Competition/train.csv\")\n",
        "test = pd.read_csv(\"/content/sample_data/Minst_Competition/test.csv\")"
      ],
      "metadata": {
        "id": "mgCpmBBRbZ6j"
      },
      "execution_count": null,
      "outputs": []
    },
    {
      "cell_type": "code",
      "source": [
        "train[\"label\"]"
      ],
      "metadata": {
        "colab": {
          "base_uri": "https://localhost:8080/"
        },
        "id": "fgWncnuPXvYf",
        "outputId": "1c026f72-b259-4108-d9d9-b8d3d02532cb"
      },
      "execution_count": null,
      "outputs": [
        {
          "output_type": "execute_result",
          "data": {
            "text/plain": [
              "0        1\n",
              "1        0\n",
              "2        1\n",
              "3        4\n",
              "4        0\n",
              "        ..\n",
              "41995    0\n",
              "41996    1\n",
              "41997    7\n",
              "41998    6\n",
              "41999    9\n",
              "Name: label, Length: 42000, dtype: int64"
            ]
          },
          "metadata": {},
          "execution_count": 5
        }
      ]
    },
    {
      "cell_type": "code",
      "source": [
        "Y_train = train[\"label\"]\n",
        "\n",
        "# Drop 'label' column\n",
        "X_train = train.drop(labels = [\"label\"],axis = 1) \n",
        "\n",
        "# free some space\n",
        "# del train \n",
        "\n",
        "g = sns.countplot(Y_train)\n",
        "\n",
        "Y_train.value_counts()"
      ],
      "metadata": {
        "colab": {
          "base_uri": "https://localhost:8080/",
          "height": 531
        },
        "id": "2GeOdeYtXVc9",
        "outputId": "0de6b5ff-a74f-43b6-f79c-527f54385458"
      },
      "execution_count": null,
      "outputs": [
        {
          "output_type": "stream",
          "name": "stderr",
          "text": [
            "/usr/local/lib/python3.7/dist-packages/seaborn/_decorators.py:43: FutureWarning: Pass the following variable as a keyword arg: x. From version 0.12, the only valid positional argument will be `data`, and passing other arguments without an explicit keyword will result in an error or misinterpretation.\n",
            "  FutureWarning\n"
          ]
        },
        {
          "output_type": "execute_result",
          "data": {
            "text/plain": [
              "1    4684\n",
              "7    4401\n",
              "3    4351\n",
              "9    4188\n",
              "2    4177\n",
              "6    4137\n",
              "0    4132\n",
              "4    4072\n",
              "8    4063\n",
              "5    3795\n",
              "Name: label, dtype: int64"
            ]
          },
          "metadata": {},
          "execution_count": 6
        },
        {
          "output_type": "display_data",
          "data": {
            "text/plain": [
              "<Figure size 432x288 with 1 Axes>"
            ],
            "image/png": "[encoded data removed]"
          },
          "metadata": {}
        }
      ]
    },
    {
      "cell_type": "markdown",
      "source": [
        "## Check for null and missing values"
      ],
      "metadata": {
        "id": "GfVvig5NYSbr"
      }
    },
    {
      "cell_type": "code",
      "source": [
        "X_train.isnull().any().describe()"
      ],
      "metadata": {
        "colab": {
          "base_uri": "https://localhost:8080/"
        },
        "id": "DWvzbuhUYInu",
        "outputId": "c759feac-05dd-4cef-cb58-d79425432846"
      },
      "execution_count": null,
      "outputs": [
        {
          "output_type": "execute_result",
          "data": {
            "text/plain": [
              "count       784\n",
              "unique        1\n",
              "top       False\n",
              "freq        784\n",
              "dtype: object"
            ]
          },
          "metadata": {},
          "execution_count": 7
        }
      ]
    },
    {
      "cell_type": "code",
      "source": [
        "test.isnull().any().describe()"
      ],
      "metadata": {
        "colab": {
          "base_uri": "https://localhost:8080/"
        },
        "id": "ntQcquh2YWZd",
        "outputId": "712f0c35-cf64-4e39-8d8a-c0b155d9c44d"
      },
      "execution_count": null,
      "outputs": [
        {
          "output_type": "execute_result",
          "data": {
            "text/plain": [
              "count       784\n",
              "unique        1\n",
              "top       False\n",
              "freq        784\n",
              "dtype: object"
            ]
          },
          "metadata": {},
          "execution_count": 8
        }
      ]
    },
    {
      "cell_type": "markdown",
      "source": [
        "I check for corrupted images (missing values inside).\n",
        "\n",
        "There is no missing values in the train and test dataset. So we can safely go ahead."
      ],
      "metadata": {
        "id": "zom78gX1YlQM"
      }
    },
    {
      "cell_type": "markdown",
      "source": [
        "## Normalization"
      ],
      "metadata": {
        "id": "4_CDH1ArYqj8"
      }
    },
    {
      "cell_type": "markdown",
      "source": [
        "We perform a grayscale normalization to reduce the effect of illumination's differences.\n",
        "\n",
        "Moreover the CNN converg faster on [0..1] data than on [0..255]."
      ],
      "metadata": {
        "id": "bQyxb0OqZZNE"
      }
    },
    {
      "cell_type": "code",
      "source": [
        "# Normalize the data\n",
        "X_train = X_train / 255.0\n",
        "test = test / 255.0"
      ],
      "metadata": {
        "id": "k5HvSWTOYdxe"
      },
      "execution_count": null,
      "outputs": []
    },
    {
      "cell_type": "markdown",
      "source": [
        "## Reshape"
      ],
      "metadata": {
        "id": "zLtjTk4sZ_6x"
      }
    },
    {
      "cell_type": "code",
      "source": [
        "# Reshape image in 3 dimensions (height = 28px, width = 28px , canal = 1)\n",
        "X_train = X_train.values.reshape(-1,28,28,1)\n",
        "test = test.values.reshape(-1,28,28,1)"
      ],
      "metadata": {
        "id": "hp0AJkFUZ61K"
      },
      "execution_count": null,
      "outputs": []
    },
    {
      "cell_type": "markdown",
      "source": [
        "## Label encoding"
      ],
      "metadata": {
        "id": "dLaxePwIbrw9"
      }
    },
    {
      "cell_type": "code",
      "source": [
        "# Encode labels to one hot vectors (ex : 2 -> [0,0,1,0,0,0,0,0,0,0])\n",
        "Y_train = to_categorical(Y_train, num_classes = 10)"
      ],
      "metadata": {
        "id": "5fE1RdEuaFyg"
      },
      "execution_count": null,
      "outputs": []
    },
    {
      "cell_type": "markdown",
      "source": [
        "Labels are 10 digits numbers from 0 to 9. We need to encode these lables to one hot vectors (ex : 2 -> [0,0,1,0,0,0,0,0,0,0])."
      ],
      "metadata": {
        "id": "jDfHULl5b1G8"
      }
    },
    {
      "cell_type": "markdown",
      "source": [
        "## Split training and valdiation set"
      ],
      "metadata": {
        "id": "OnE0q-Eib4dk"
      }
    },
    {
      "cell_type": "code",
      "source": [
        "# Set the random seed\n",
        "random_seed = 2"
      ],
      "metadata": {
        "id": "UIGNCh1NbuyL"
      },
      "execution_count": null,
      "outputs": []
    },
    {
      "cell_type": "code",
      "source": [
        "# Split the train and the validation set for the fitting\n",
        "X_train, X_val, Y_train, Y_val = train_test_split(X_train, Y_train, test_size = 0.1, random_state=random_seed)"
      ],
      "metadata": {
        "id": "ogKAp2fFb73j"
      },
      "execution_count": null,
      "outputs": []
    },
    {
      "cell_type": "markdown",
      "source": [
        "I choosed to split the train set in two parts : a small fraction (10%) became the validation set which the model is evaluated and the rest (90%) is used to train the model.\n",
        "\n",
        "Since we have 42 000 training images of balanced labels (see 2.1 Load data), a random split of the train set doesn't cause some labels to be over represented in the validation set. Be carefull with some unbalanced dataset a simple random split could cause inaccurate evaluation during the validation.\n",
        "\n",
        "To avoid that, you could use stratify = True option in train_test_split function (Only for >=0.17 sklearn versions).\n",
        "\n",
        "We can get a better sense for one of these examples by visualising the image and looking at the label."
      ],
      "metadata": {
        "id": "_z8Eymg5cQCb"
      }
    },
    {
      "cell_type": "code",
      "source": [
        "# Some examples\n",
        "g = plt.imshow(X_train[0][:,:,0])"
      ],
      "metadata": {
        "colab": {
          "base_uri": "https://localhost:8080/",
          "height": 268
        },
        "id": "s4yBDllMcCCy",
        "outputId": "75bdc94a-ec50-4200-c66e-0a43ff783f1c"
      },
      "execution_count": null,
      "outputs": [
        {
          "output_type": "display_data",
          "data": {
            "text/plain": [
              "<Figure size 432x288 with 1 Axes>"
            ],
            "image/png": "[encoded data removed]"
          },
          "metadata": {}
        }
      ]
    },
    {
      "cell_type": "markdown",
      "source": [
        "## CNN"
      ],
      "metadata": {
        "id": "CFe1asHDcZTS"
      }
    },
    {
      "cell_type": "markdown",
      "source": [
        "## Define the model"
      ],
      "metadata": {
        "id": "6ZOJNLEhccn0"
      }
    },
    {
      "cell_type": "markdown",
      "source": [
        "I used the Keras Sequential API, where you have just to add one layer at a time, starting from the input.\n",
        "\n",
        "The first is the convolutional (Conv2D) layer. It is like a set of learnable filters. I choosed to set 32 filters for the two firsts conv2D layers and 64 filters for the two last ones. Each filter transforms a part of the image (defined by the kernel size) using the kernel filter. The kernel filter matrix is applied on the whole image. Filters can be seen as a transformation of the image.\n",
        "\n",
        "The CNN can isolate features that are useful everywhere from these transformed images (feature maps).\n",
        "\n",
        "The second important layer in CNN is the pooling (MaxPool2D) layer. This layer simply acts as a downsampling filter. It looks at the 2 neighboring pixels and picks the maximal value. These are used to reduce computational cost, and to some extent also reduce overfitting. We have to choose the pooling size (i.e the area size pooled each time) more the pooling dimension is high, more the downsampling is important.\n",
        "\n",
        "Combining convolutional and pooling layers, CNN are able to combine local features and learn more global features of the image.\n",
        "\n",
        "Dropout is a regularization method, where a proportion of nodes in the layer are randomly ignored (setting their wieghts to zero) for each training sample. This drops randomly a propotion of the network and forces the network to learn features in a distributed way. This technique also improves generalization and reduces the overfitting.\n",
        "\n",
        "'relu' is the rectifier (activation function max(0,x). The rectifier activation function is used to add non linearity to the network.\n",
        "\n",
        "The Flatten layer is use to convert the final feature maps into a one single 1D vector. This flattening step is needed so that you can make use of fully connected layers after some convolutional/maxpool layers. It combines all the found local features of the previous convolutional layers.\n",
        "\n",
        "In the end i used the features in two fully-connected (Dense) layers which is just artificial an neural networks (ANN) classifier. In the last layer(Dense(10,activation=\"softmax\")) the net outputs distribution of probability of each class."
      ],
      "metadata": {
        "id": "U5qHCBeG3P_Y"
      }
    },
    {
      "cell_type": "markdown",
      "source": [
        "Please watch this video to understand the Dense layer \n",
        "https://www.youtube.com/watch?v=lor2LnEVn8M"
      ],
      "metadata": {
        "id": "pSXeo2Y2ssU5"
      }
    },
    {
      "cell_type": "code",
      "source": [
        "# Set the CNN model \n",
        "# my CNN architechture is In -> [[Conv2D->relu]*2 -> MaxPool2D -> Dropout]*2 -> Flatten -> Dense -> Dropout -> Out\n",
        "\n",
        "model = Sequential()\n",
        "\n",
        "model.add(Conv2D(filters = 32, kernel_size = (5,5),padding = 'Same', \n",
        "                 activation ='relu', input_shape = (28,28,1)))\n",
        "model.add(Conv2D(filters = 32, kernel_size = (5,5),padding = 'Same', \n",
        "                 activation ='relu'))\n",
        "model.add(MaxPool2D(pool_size=(2,2)))\n",
        "model.add(Dropout(0.25))\n",
        "\n",
        "\n",
        "model.add(Conv2D(filters = 64, kernel_size = (3,3),padding = 'Same', \n",
        "                 activation ='relu'))\n",
        "model.add(Conv2D(filters = 64, kernel_size = (3,3),padding = 'Same', \n",
        "                 activation ='relu'))\n",
        "model.add(MaxPool2D(pool_size=(2,2), strides=(2,2)))\n",
        "model.add(Dropout(0.25))\n",
        "\n",
        "\n",
        "model.add(Flatten())\n",
        "model.add(Dense(256, activation = \"relu\"))\n",
        "model.add(Dropout(0.5))\n",
        "model.add(Dense(10, activation = \"softmax\"))"
      ],
      "metadata": {
        "id": "0s6rchEbcSZv"
      },
      "execution_count": null,
      "outputs": []
    },
    {
      "cell_type": "markdown",
      "source": [
        "## Set the optimizer and annealer"
      ],
      "metadata": {
        "id": "URYG6l4d5R8L"
      }
    },
    {
      "cell_type": "markdown",
      "source": [
        "Once our layers are added to the model, we need to set up a score function, a loss function and an optimisation algorithm.\n",
        "\n",
        "We define the loss function to measure how poorly our model performs on images with known labels. It is the error rate between the oberved labels and the predicted ones. We use a specific form for categorical classifications (>2 classes) called the \"categorical_crossentropy\".\n",
        "\n",
        "The most important function is the optimizer. This function will iteratively improve parameters (filters kernel values, weights and bias of neurons ...) in order to minimise the loss.\n",
        "\n",
        "I choosed RMSprop (with default values), it is a very effective optimizer. The RMSProp update adjusts the Adagrad method in a very simple way in an attempt to reduce its aggressive, monotonically decreasing learning rate. We could also have used Stochastic Gradient Descent ('sgd') optimizer, but it is slower than RMSprop.\n",
        "\n",
        "The metric function \"accuracy\" is used is to evaluate the performance our model. This metric function is similar to the loss function, except that the results from the metric evaluation are not used when training the model (only for evaluation)."
      ],
      "metadata": {
        "id": "mfZtInJ75OZd"
      }
    },
    {
      "cell_type": "code",
      "source": [
        "# Define the optimizer\n",
        "optimizer = RMSprop(learning_rate=0.001, rho=0.9, epsilon=1e-08, decay=0.0)"
      ],
      "metadata": {
        "id": "CTWioxLV3WKb"
      },
      "execution_count": null,
      "outputs": []
    },
    {
      "cell_type": "code",
      "source": [
        "# Compile the model\n",
        "model.compile(optimizer = optimizer , loss = \"categorical_crossentropy\", metrics=[\"accuracy\"])"
      ],
      "metadata": {
        "id": "UtpIe9I_5Vw_"
      },
      "execution_count": null,
      "outputs": []
    },
    {
      "cell_type": "markdown",
      "source": [
        "In order to make the optimizer converge faster and closest to the global minimum of the loss function, i used an annealing method of the learning rate (LR).\n",
        "\n",
        "The LR is the step by which the optimizer walks through the 'loss landscape'. The higher LR, the bigger are the steps and the quicker is the convergence. However the sampling is very poor with an high LR and the optimizer could probably fall into a local minima.\n",
        "\n",
        "Its better to have a decreasing learning rate during the training to reach efficiently the global minimum of the loss function.\n",
        "\n",
        "To keep the advantage of the fast computation time with a high LR, i decreased the LR dynamically every X steps (epochs) depending if it is necessary (when accuracy is not improved).\n",
        "\n",
        "With the ReduceLROnPlateau function from Keras.callbacks, i choose to reduce the LR by half if the accuracy is not improved after 3 epochs."
      ],
      "metadata": {
        "id": "JCymgeJy6Cdl"
      }
    },
    {
      "cell_type": "code",
      "source": [
        "# Set a learning rate annealer\n",
        "learning_rate_reduction = ReduceLROnPlateau(monitor='val_acc', \n",
        "                                            patience=3, \n",
        "                                            verbose=1, \n",
        "                                            factor=0.5, \n",
        "                                            min_lr=0.00001)"
      ],
      "metadata": {
        "id": "ehY_b7Uf5wM7"
      },
      "execution_count": null,
      "outputs": []
    },
    {
      "cell_type": "code",
      "source": [
        "epochs = 1 # Turn epochs to 30 to get 0.9967 accuracy\n",
        "batch_size = 86"
      ],
      "metadata": {
        "id": "Q4T4s9hp6G2z"
      },
      "execution_count": null,
      "outputs": []
    },
    {
      "cell_type": "markdown",
      "source": [
        "## Data augmentation"
      ],
      "metadata": {
        "id": "BQ9Ih-IOtXHW"
      }
    },
    {
      "cell_type": "markdown",
      "source": [
        "In order to avoid overfitting problem, we need to expand artificially our handwritten digit dataset. We can make your existing dataset even larger. The idea is to alter the training data with small transformations to reproduce the variations occuring when someone is writing a digit.\n",
        "\n",
        "For example, the number is not centered The scale is not the same (some who write with big/small numbers) The image is rotated...\n",
        "\n",
        "Approaches that alter the training data in ways that change the array representation while keeping the label the same are known as data augmentation techniques. Some popular augmentations people use are grayscales, horizontal flips, vertical flips, random crops, color jitters, translations, rotations, and much more.\n",
        "\n",
        "By applying just a couple of these transformations to our training data, we can easily double or triple the number of training examples and create a very robust model.\n",
        "\n",
        "The improvement is important :\n",
        "\n",
        "Without data augmentation i obtained an accuracy of 98.114%\n",
        "With data augmentation i achieved 99.67% of accuracy"
      ],
      "metadata": {
        "id": "ER-YCS4Vtah1"
      }
    },
    {
      "cell_type": "code",
      "source": [
        "# With data augmentation to prevent overfitting (accuracy 0.99286)\n",
        "\n",
        "datagen = ImageDataGenerator(\n",
        "        featurewise_center=False,  # set input mean to 0 over the dataset\n",
        "        samplewise_center=False,  # set each sample mean to 0\n",
        "        featurewise_std_normalization=False,  # divide inputs by std of the dataset\n",
        "        samplewise_std_normalization=False,  # divide each input by its std\n",
        "        zca_whitening=False,  # apply ZCA whitening\n",
        "        rotation_range=10,  # randomly rotate images in the range (degrees, 0 to 180)\n",
        "        zoom_range = 0.1, # Randomly zoom image \n",
        "        width_shift_range=0.1,  # randomly shift images horizontally (fraction of total width)\n",
        "        height_shift_range=0.1,  # randomly shift images vertically (fraction of total height)\n",
        "        horizontal_flip=False,  # randomly flip images\n",
        "        vertical_flip=False)  # randomly flip images\n",
        "\n",
        "\n",
        "datagen.fit(X_train)"
      ],
      "metadata": {
        "id": "E17DFp9WjnMX"
      },
      "execution_count": null,
      "outputs": []
    },
    {
      "cell_type": "code",
      "source": [
        "# Fit the model\n",
        "history = model.fit(datagen.flow(X_train,Y_train, batch_size=batch_size),\n",
        "                              epochs = epochs, validation_data = (X_val,Y_val),\n",
        "                              verbose = 2, steps_per_epoch=X_train.shape[0] // batch_size\n",
        "                              , callbacks=[learning_rate_reduction])"
      ],
      "metadata": {
        "id": "cYT8JDvA6P-Q",
        "colab": {
          "base_uri": "https://localhost:8080/"
        },
        "outputId": "4a6363c9-dbba-4d20-956b-d4f43c64ea41"
      },
      "execution_count": null,
      "outputs": [
        {
          "output_type": "stream",
          "name": "stderr",
          "text": [
            "WARNING:tensorflow:Learning rate reduction is conditioned on metric `val_acc` which is not available. Available metrics are: loss,accuracy,val_loss,val_accuracy,lr\n"
          ]
        },
        {
          "output_type": "stream",
          "name": "stdout",
          "text": [
            "439/439 - 287s - loss: 0.4375 - accuracy: 0.8597 - val_loss: 0.0547 - val_accuracy: 0.9829 - lr: 0.0010 - 287s/epoch - 654ms/step\n"
          ]
        }
      ]
    },
    {
      "cell_type": "markdown",
      "source": [
        "## Evaluate the model\n",
        "# Training and validation curves"
      ],
      "metadata": {
        "id": "vvPCtO47jz5f"
      }
    },
    {
      "cell_type": "code",
      "source": [
        "# Plot the loss and accuracy curves for training and validation \n",
        "fig, ax = plt.subplots(2,1)\n",
        "ax[0].plot(history.history['loss'], color='b', label=\"Training loss\")\n",
        "ax[0].plot(history.history['val_loss'], color='r', label=\"validation loss\",axes =ax[0])\n",
        "legend = ax[0].legend(loc='best', shadow=True)\n",
        "\n",
        "ax[1].plot(history.history['acc'], color='b', label=\"Training accuracy\")\n",
        "ax[1].plot(history.history['val_acc'], color='r',label=\"Validation accuracy\")\n",
        "legend = ax[1].legend(loc='best', shadow=True)"
      ],
      "metadata": {
        "id": "8glQTDRUj0e6",
        "colab": {
          "base_uri": "https://localhost:8080/",
          "height": 486
        },
        "outputId": "26c13ffc-8c87-4b52-c420-00861aa6041b"
      },
      "execution_count": null,
      "outputs": [
        {
          "output_type": "error",
          "ename": "KeyError",
          "evalue": "ignored",
          "traceback": [
            "\u001b[0;31m---------------------------------------------------------------------------\u001b[0m",
            "\u001b[0;31mKeyError\u001b[0m                                  Traceback (most recent call last)",
            "\u001b[0;32m<ipython-input-22-f6a4335f6c79>\u001b[0m in \u001b[0;36m<module>\u001b[0;34m\u001b[0m\n\u001b[1;32m      5\u001b[0m \u001b[0mlegend\u001b[0m \u001b[0;34m=\u001b[0m \u001b[0max\u001b[0m\u001b[0;34m[\u001b[0m\u001b[0;36m0\u001b[0m\u001b[0;34m]\u001b[0m\u001b[0;34m.\u001b[0m\u001b[0mlegend\u001b[0m\u001b[0;34m(\u001b[0m\u001b[0mloc\u001b[0m\u001b[0;34m=\u001b[0m\u001b[0;34m'best'\u001b[0m\u001b[0;34m,\u001b[0m \u001b[0mshadow\u001b[0m\u001b[0;34m=\u001b[0m\u001b[0;32mTrue\u001b[0m\u001b[0;34m)\u001b[0m\u001b[0;34m\u001b[0m\u001b[0;34m\u001b[0m\u001b[0m\n\u001b[1;32m      6\u001b[0m \u001b[0;34m\u001b[0m\u001b[0m\n\u001b[0;32m----> 7\u001b[0;31m \u001b[0max\u001b[0m\u001b[0;34m[\u001b[0m\u001b[0;36m1\u001b[0m\u001b[0;34m]\u001b[0m\u001b[0;34m.\u001b[0m\u001b[0mplot\u001b[0m\u001b[0;34m(\u001b[0m\u001b[0mhistory\u001b[0m\u001b[0;34m.\u001b[0m\u001b[0mhistory\u001b[0m\u001b[0;34m[\u001b[0m\u001b[0;34m'acc'\u001b[0m\u001b[0;34m]\u001b[0m\u001b[0;34m,\u001b[0m \u001b[0mcolor\u001b[0m\u001b[0;34m=\u001b[0m\u001b[0;34m'b'\u001b[0m\u001b[0;34m,\u001b[0m \u001b[0mlabel\u001b[0m\u001b[0;34m=\u001b[0m\u001b[0;34m\"Training accuracy\"\u001b[0m\u001b[0;34m)\u001b[0m\u001b[0;34m\u001b[0m\u001b[0;34m\u001b[0m\u001b[0m\n\u001b[0m\u001b[1;32m      8\u001b[0m \u001b[0max\u001b[0m\u001b[0;34m[\u001b[0m\u001b[0;36m1\u001b[0m\u001b[0;34m]\u001b[0m\u001b[0;34m.\u001b[0m\u001b[0mplot\u001b[0m\u001b[0;34m(\u001b[0m\u001b[0mhistory\u001b[0m\u001b[0;34m.\u001b[0m\u001b[0mhistory\u001b[0m\u001b[0;34m[\u001b[0m\u001b[0;34m'val_acc'\u001b[0m\u001b[0;34m]\u001b[0m\u001b[0;34m,\u001b[0m \u001b[0mcolor\u001b[0m\u001b[0;34m=\u001b[0m\u001b[0;34m'r'\u001b[0m\u001b[0;34m,\u001b[0m\u001b[0mlabel\u001b[0m\u001b[0;34m=\u001b[0m\u001b[0;34m\"Validation accuracy\"\u001b[0m\u001b[0;34m)\u001b[0m\u001b[0;34m\u001b[0m\u001b[0;34m\u001b[0m\u001b[0m\n\u001b[1;32m      9\u001b[0m \u001b[0mlegend\u001b[0m \u001b[0;34m=\u001b[0m \u001b[0max\u001b[0m\u001b[0;34m[\u001b[0m\u001b[0;36m1\u001b[0m\u001b[0;34m]\u001b[0m\u001b[0;34m.\u001b[0m\u001b[0mlegend\u001b[0m\u001b[0;34m(\u001b[0m\u001b[0mloc\u001b[0m\u001b[0;34m=\u001b[0m\u001b[0;34m'best'\u001b[0m\u001b[0;34m,\u001b[0m \u001b[0mshadow\u001b[0m\u001b[0;34m=\u001b[0m\u001b[0;32mTrue\u001b[0m\u001b[0;34m)\u001b[0m\u001b[0;34m\u001b[0m\u001b[0;34m\u001b[0m\u001b[0m\n",
            "\u001b[0;31mKeyError\u001b[0m: 'acc'"
          ]
        },
        {
          "output_type": "display_data",
          "data": {
            "text/plain": [
              "<Figure size 432x288 with 2 Axes>"
            ],
            "image/png": "[encoded data removed]"
          },
          "metadata": {}
        }
      ]
    },
    {
      "cell_type": "markdown",
      "source": [
        "## Confusion matrix\n",
        "Confusion matrix can be very helpfull to see your model drawbacks.\n",
        "\n",
        "I plot the confusion matrix of the validation results."
      ],
      "metadata": {
        "id": "RJ9_4kePkJ3p"
      }
    },
    {
      "cell_type": "code",
      "source": [
        "# Look at confusion matrix \n",
        "\n",
        "def plot_confusion_matrix(cm, classes,\n",
        "                          normalize=False,\n",
        "                          title='Confusion matrix',\n",
        "                          cmap=plt.cm.Blues):\n",
        "    \"\"\"\n",
        "    This function prints and plots the confusion matrix.\n",
        "    Normalization can be applied by setting `normalize=True`.\n",
        "    \"\"\"\n",
        "    plt.imshow(cm, interpolation='nearest', cmap=cmap)\n",
        "    plt.title(title)\n",
        "    plt.colorbar()\n",
        "    tick_marks = np.arange(len(classes))\n",
        "    plt.xticks(tick_marks, classes, rotation=45)\n",
        "    plt.yticks(tick_marks, classes)\n",
        "\n",
        "    if normalize:\n",
        "        cm = cm.astype('float') / cm.sum(axis=1)[:, np.newaxis]\n",
        "\n",
        "    thresh = cm.max() / 2.\n",
        "    for i, j in itertools.product(range(cm.shape[0]), range(cm.shape[1])):\n",
        "        plt.text(j, i, cm[i, j],\n",
        "                 horizontalalignment=\"center\",\n",
        "                 color=\"white\" if cm[i, j] > thresh else \"black\")\n",
        "\n",
        "    plt.tight_layout()\n",
        "    plt.ylabel('True label')\n",
        "    plt.xlabel('Predicted label')\n",
        "\n",
        "# Predict the values from the validation dataset\n",
        "Y_pred = model.predict(X_val)\n",
        "# Convert predictions classes to one hot vectors \n",
        "Y_pred_classes = np.argmax(Y_pred,axis = 1) \n",
        "# Convert validation observations to one hot vectors\n",
        "Y_true = np.argmax(Y_val,axis = 1) \n",
        "# compute the confusion matrix\n",
        "confusion_mtx = confusion_matrix(Y_true, Y_pred_classes) \n",
        "# plot the confusion matrix\n",
        "plot_confusion_matrix(confusion_mtx, classes = range(10)) "
      ],
      "metadata": {
        "id": "T2IC9Z_QkKZg"
      },
      "execution_count": null,
      "outputs": []
    },
    {
      "cell_type": "code",
      "source": [
        "# Display some error results \n",
        "\n",
        "# Errors are difference between predicted labels and true labels\n",
        "errors = (Y_pred_classes - Y_true != 0)\n",
        "\n",
        "Y_pred_classes_errors = Y_pred_classes[errors]\n",
        "Y_pred_errors = Y_pred[errors]\n",
        "Y_true_errors = Y_true[errors]\n",
        "X_val_errors = X_val[errors]\n",
        "\n",
        "def display_errors(errors_index,img_errors,pred_errors, obs_errors):\n",
        "    \"\"\" This function shows 6 images with their predicted and real labels\"\"\"\n",
        "    n = 0\n",
        "    nrows = 2\n",
        "    ncols = 3\n",
        "    fig, ax = plt.subplots(nrows,ncols,sharex=True,sharey=True)\n",
        "    for row in range(nrows):\n",
        "        for col in range(ncols):\n",
        "            error = errors_index[n]\n",
        "            ax[row,col].imshow((img_errors[error]).reshape((28,28)))\n",
        "            ax[row,col].set_title(\"Predicted label :{}\\nTrue label :{}\".format(pred_errors[error],obs_errors[error]))\n",
        "            n += 1\n",
        "\n",
        "# Probabilities of the wrong predicted numbers\n",
        "Y_pred_errors_prob = np.max(Y_pred_errors,axis = 1)\n",
        "\n",
        "# Predicted probabilities of the true values in the error set\n",
        "true_prob_errors = np.diagonal(np.take(Y_pred_errors, Y_true_errors, axis=1))\n",
        "\n",
        "# Difference between the probability of the predicted label and the true label\n",
        "delta_pred_true_errors = Y_pred_errors_prob - true_prob_errors\n",
        "\n",
        "# Sorted list of the delta prob errors\n",
        "sorted_dela_errors = np.argsort(delta_pred_true_errors)\n",
        "\n",
        "# Top 6 errors \n",
        "most_important_errors = sorted_dela_errors[-6:]\n",
        "\n",
        "# Show the top 6 errors\n",
        "display_errors(most_important_errors, X_val_errors, Y_pred_classes_errors, Y_true_errors)"
      ],
      "metadata": {
        "id": "5l4i5x-YtvVb"
      },
      "execution_count": null,
      "outputs": []
    },
    {
      "cell_type": "code",
      "source": [
        "# predict results\n",
        "results = model.predict(test)\n",
        "\n",
        "# select the indix with the maximum probability\n",
        "results = np.argmax(results,axis = 1)\n",
        "\n",
        "results = pd.Series(results,name=\"Label\")"
      ],
      "metadata": {
        "id": "JuO003gBtxl7"
      },
      "execution_count": null,
      "outputs": []
    },
    {
      "cell_type": "code",
      "source": [
        "submission = pd.concat([pd.Series(range(1,28001),name = \"ImageId\"),results],axis = 1)\n",
        "\n",
        "submission.to_csv(\"cnn_mnist_datagen.csv\",index=False)"
      ],
      "metadata": {
        "id": "2HmwmcfLtzSk"
      },
      "execution_count": null,
      "outputs": []
    }
  ]
}