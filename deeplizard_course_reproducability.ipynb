{
  "nbformat": 4,
  "nbformat_minor": 0,
  "metadata": {
    "colab": {
      "provenance": [],
      "collapsed_sections": [],
      "authorship_tag": "ABX9TyMNfOtSwkpWwNVnrOiSWh2f",
      "include_colab_link": true
    },
    "kernelspec": {
      "name": "python3",
      "display_name": "Python 3"
    }
  },
  "cells": [
    {
      "cell_type": "markdown",
      "metadata": {
        "id": "view-in-github",
        "colab_type": "text"
      },
      "source": [
        "<a href=\"https://colab.research.google.com/github/Amr0093/Amr0093/blob/main/deeplizard_course_reproducability.ipynb\" target=\"_parent\"><img src=\"https://colab.research.google.com/assets/colab-badge.svg\" alt=\"Open In Colab\"/></a>"
      ]
    },
    {
      "cell_type": "markdown",
      "metadata": {
        "id": "GTq2aoMsBQs9"
      },
      "source": [
        "### ***when you train a model using the same dataset and the same architecture you'll get slightly different result each time you run the model and this is happening because many parameters of keras or it's backend engine (tensorflow) is based on random number thus to ensure reproducability use randomseed with the following:***"
      ]
    },
    {
      "cell_type": "markdown",
      "metadata": {
        "id": "Ia0e-uPRB9M2"
      },
      "source": [
        "first lets import all the causes of the random numbers"
      ]
    },
    {
      "cell_type": "code",
      "metadata": {
        "id": "pxKJku3fA9BL"
      },
      "source": [
        "import numpy as np\n",
        "import tensorflow as tf\n",
        "import random as rn"
      ],
      "execution_count": null,
      "outputs": []
    },
    {
      "cell_type": "markdown",
      "metadata": {
        "id": "VCc-m574CO19"
      },
      "source": [
        "### ***the piece of code below is necessary for any reproducibility for certain hash based algorithms, so we put this in directly underneath our import statements.***"
      ]
    },
    {
      "cell_type": "code",
      "metadata": {
        "id": "0fDnnkzuCQlT"
      },
      "source": [
        "import os\n",
        "os.environ['PYTHONHASHSEED'] = '0'"
      ],
      "execution_count": null,
      "outputs": []
    },
    {
      "cell_type": "code",
      "metadata": {
        "id": "qsAHhi5-CWZF"
      },
      "source": [
        "np.random.seed(37)"
      ],
      "execution_count": null,
      "outputs": []
    },
    {
      "cell_type": "code",
      "metadata": {
        "id": "CdWnLiwdCYHV"
      },
      "source": [
        "rn.seed(1254)"
      ],
      "execution_count": null,
      "outputs": []
    },
    {
      "cell_type": "markdown",
      "metadata": {
        "id": "t4nU0x7UCdzE"
      },
      "source": [
        "### ***As an additional item, the Keras documentation also tells us that we should force TensorFlow to use a single thread since multiple threads are a potential source of non-reproducibile results.***"
      ]
    },
    {
      "cell_type": "code",
      "metadata": {
        "id": "JAP5szjACfs4"
      },
      "source": [
        "session_conf = tf.ConfigProto(intra_op_parallelism_threads=1, inter_op_parallelism_threads=1)\n",
        "sess = tf.Session(graph=tf.get_default_graph(), config=session_conf)\n",
        "K.set_session(sess)"
      ],
      "execution_count": null,
      "outputs": []
    },
    {
      "cell_type": "markdown",
      "metadata": {
        "id": "EBdZ0MSqC30-"
      },
      "source": [
        "# ***Additionally, you want to also set shuffle=False when you call fit() on the Keras model. This tells Keras not to shuffle the training data before each epoch. This is also an example of inherent randomness in the training process that we can remove to achieve reproducible results.***"
      ]
    }
  ]
}