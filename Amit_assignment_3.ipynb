{
  "nbformat": 4,
  "nbformat_minor": 0,
  "metadata": {
    "colab": {
      "provenance": [],
      "collapsed_sections": [],
      "authorship_tag": "ABX9TyPr5xJqe015Z5kHeI0kUzkX",
      "include_colab_link": true
    },
    "kernelspec": {
      "name": "python3",
      "display_name": "Python 3"
    },
    "language_info": {
      "name": "python"
    }
  },
  "cells": [
    {
      "cell_type": "markdown",
      "metadata": {
        "id": "view-in-github",
        "colab_type": "text"
      },
      "source": [
        "<a href=\"https://colab.research.google.com/github/Amr0093/Amr0093/blob/main/Amit_assignment_3.ipynb\" target=\"_parent\"><img src=\"https://colab.research.google.com/assets/colab-badge.svg\" alt=\"Open In Colab\"/></a>"
      ]
    },
    {
      "cell_type": "markdown",
      "source": [
        "Linear regression"
      ],
      "metadata": {
        "id": "e56tPbKz6Vsl"
      }
    },
    {
      "cell_type": "code",
      "execution_count": null,
      "metadata": {
        "colab": {
          "base_uri": "https://localhost:8080/",
          "height": 321
        },
        "id": "_LQiwPKVP45w",
        "outputId": "fe2e1681-3a09-48d6-945f-21bec15b165c"
      },
      "outputs": [
        {
          "output_type": "stream",
          "name": "stdout",
          "text": [
            "prediction: \n",
            " [ 6.  8.  9. 11.]\n",
            "Coefficients: \n",
            " [1. 2.]\n"
          ]
        },
        {
          "output_type": "display_data",
          "data": {
            "image/png": "[encoded data removed]",
            "text/plain": [
              "<Figure size 432x288 with 1 Axes>"
            ]
          },
          "metadata": {}
        }
      ],
      "source": [
        "\n",
        "import matplotlib.pyplot as plt\n",
        "import numpy as np\n",
        "from sklearn import datasets, linear_model\n",
        "\n",
        "# Create the x values\n",
        "x = np.array([[1, 1], [1, 2], [2, 2], [2, 3]])\n",
        "x_test = x[::-1]\n",
        "# Create the Y values\n",
        "y = np.dot(x, np.array([1, 2])) + 3\n",
        "\n",
        "# Create linear regression object\n",
        "regr = linear_model.LinearRegression()\n",
        "\n",
        "# Train the model using the training sets\n",
        "fit_line = regr.fit(x, y)\n",
        "\n",
        "# Make predictions using the same set\n",
        "y_pred = regr.predict(x)\n",
        "print(\"prediction: \\n\", y_pred)\n",
        "\n",
        "# The coefficients\n",
        "print(\"Coefficients: \\n\", regr.coef_)\n",
        "\n",
        "plt.scatter(x[:,1], y, color=\"black\")\n",
        "\n",
        "plt.plot(x[:,1], y_pred, color=\"blue\", linewidth=3)\n",
        "\n",
        "plt.xticks(())\n",
        "plt.yticks(())\n",
        "\n",
        "plt.show()\n"
      ]
    },
    {
      "cell_type": "code",
      "source": [
        "# Make prediction for the test data\n",
        "test_y_predict = regr.predict(x_test)\n",
        "print(\"prediction: \\n\", test_y_predict)\n",
        "\n",
        "plt.scatter(x_test[:,1], test_y_predict, color=\"black\")\n",
        "\n",
        "plt.plot(x_test[:,1], test_y_predict, color=\"blue\", linewidth=3)\n",
        "\n",
        "plt.xticks(())\n",
        "plt.yticks(())\n",
        "\n",
        "plt.show()\n"
      ],
      "metadata": {
        "colab": {
          "base_uri": "https://localhost:8080/",
          "height": 287
        },
        "id": "g2X4ig4vUD5L",
        "outputId": "06219a96-2a54-4ca7-c807-e961a3bc8daf"
      },
      "execution_count": null,
      "outputs": [
        {
          "output_type": "stream",
          "name": "stdout",
          "text": [
            "prediction: \n",
            " [11.  9.  8.  6.]\n"
          ]
        },
        {
          "output_type": "display_data",
          "data": {
            "image/png": "[encoded data removed]",
            "text/plain": [
              "<Figure size 432x288 with 1 Axes>"
            ]
          },
          "metadata": {}
        }
      ]
    },
    {
      "cell_type": "code",
      "source": [],
      "metadata": {
        "id": "Mpb8ft7wP-1I"
      },
      "execution_count": null,
      "outputs": []
    },
    {
      "cell_type": "markdown",
      "source": [
        "polynomial regression"
      ],
      "metadata": {
        "id": "JCNtsmJxZXtz"
      }
    },
    {
      "cell_type": "code",
      "source": [
        "# pol_x = np.arange(10)+5\n",
        "# pol_y = pol_x ** 6\n",
        "\n",
        "pol_x = [1,2,3,5,6,7,8,9,10,12,13,14,15,16,18,19,21,22]\n",
        "pol_y = [100,90,80,60,60,55,60,65,70,70,75,76,78,79,90,99,99,100]\n",
        "plt.scatter(pol_x, pol_y)\n",
        "plt.show()"
      ],
      "metadata": {
        "id": "L9ZJEtYFZWFM",
        "colab": {
          "base_uri": "https://localhost:8080/",
          "height": 265
        },
        "outputId": "7b39937c-f27b-4fc0-ed93-639c16f59b14"
      },
      "execution_count": null,
      "outputs": [
        {
          "output_type": "display_data",
          "data": {
            "image/png": "[encoded data removed]",
            "text/plain": [
              "<Figure size 432x288 with 1 Axes>"
            ]
          },
          "metadata": {
            "needs_background": "light"
          }
        }
      ]
    },
    {
      "cell_type": "code",
      "source": [
        "import numpy\n",
        "mymodel = numpy.poly1d(numpy.polyfit(pol_x, pol_y, 3))\n",
        "myline = numpy.linspace(0, 22, 100)\n",
        "plt.scatter(pol_x, pol_y,color = \"red\")\n",
        "plt.plot(myline, mymodel(myline),color = \"blue\")\n",
        "plt.show()"
      ],
      "metadata": {
        "colab": {
          "base_uri": "https://localhost:8080/",
          "height": 265
        },
        "id": "ZrtQ0cxMbr-u",
        "outputId": "c98bb244-e54d-4526-f0c2-e1b2ed1e181a"
      },
      "execution_count": null,
      "outputs": [
        {
          "output_type": "display_data",
          "data": {
            "image/png": "[encoded data removed]",
            "text/plain": [
              "<Figure size 432x288 with 1 Axes>"
            ]
          },
          "metadata": {
            "needs_background": "light"
          }
        }
      ]
    },
    {
      "cell_type": "markdown",
      "source": [],
      "metadata": {
        "id": "exCDp3xAX8QR"
      }
    },
    {
      "cell_type": "markdown",
      "source": [],
      "metadata": {
        "id": "J6urqpIL6Te7"
      }
    }
  ]
}