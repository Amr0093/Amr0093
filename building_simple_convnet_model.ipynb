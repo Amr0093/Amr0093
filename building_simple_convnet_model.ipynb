{
  "nbformat": 4,
  "nbformat_minor": 0,
  "metadata": {
    "colab": {
      "provenance": [],
      "authorship_tag": "ABX9TyNkK+rHMTvfgofNVYVnj5qh",
      "include_colab_link": true
    },
    "kernelspec": {
      "name": "python3",
      "display_name": "Python 3"
    }
  },
  "cells": [
    {
      "cell_type": "markdown",
      "metadata": {
        "id": "view-in-github",
        "colab_type": "text"
      },
      "source": [
        "<a href=\"https://colab.research.google.com/github/Amr0093/Amr0093/blob/main/building_simple_convnet_model.ipynb\" target=\"_parent\"><img src=\"https://colab.research.google.com/assets/colab-badge.svg\" alt=\"Open In Colab\"/></a>"
      ]
    },
    {
      "cell_type": "code",
      "metadata": {
        "id": "aqZv1UmNs1mT"
      },
      "source": [
        "import tensorflow as tf\n",
        "from tensorflow.keras.models import Sequential\n",
        "from tensorflow.keras.layers import Activation\n",
        "from tensorflow.keras.layers import Dense, Flatten\n",
        "from tensorflow.keras.layers import *\n",
        "from tensorflow.keras.layers import *\n",
        "\n",
        "model = Sequential([\n",
        "    Conv2D(\n",
        "        2 # this model has 2 filters\n",
        "        , kernel_size=(3,3) #this thee size of the filters and their number is 2 \n",
        "        , input_shape=(20,20,3) #image size is 2*2*and the 3 is RGB\n",
        "        , activation='relu' \n",
        "        , padding='valid'\n",
        "    ),\n",
        "    Conv2D(\n",
        "        3\n",
        "        , kernel_size=(3,3)\n",
        "        , activation='relu'\n",
        "        , padding='valid'\n",
        "    ),\n",
        "    Flatten(),\n",
        "    Dense(\n",
        "        2, \n",
        "        activation='softmax'\n",
        "    )\n",
        "])"
      ],
      "execution_count": null,
      "outputs": []
    },
    {
      "cell_type": "code",
      "metadata": {
        "id": "2XPeXuEIs6Wf",
        "outputId": "8a1b310d-ef8d-4eb1-e672-f2dbd14d3612",
        "colab": {
          "base_uri": "https://localhost:8080/",
          "height": 301
        }
      },
      "source": [
        "model.summary()"
      ],
      "execution_count": null,
      "outputs": [
        {
          "output_type": "stream",
          "text": [
            "Model: \"sequential\"\n",
            "_________________________________________________________________\n",
            "Layer (type)                 Output Shape              Param #   \n",
            "=================================================================\n",
            "conv2d (Conv2D)              (None, 18, 18, 2)         56        \n",
            "_________________________________________________________________\n",
            "conv2d_1 (Conv2D)            (None, 16, 16, 3)         57        \n",
            "_________________________________________________________________\n",
            "flatten (Flatten)            (None, 768)               0         \n",
            "_________________________________________________________________\n",
            "dense (Dense)                (None, 2)                 1538      \n",
            "=================================================================\n",
            "Total params: 1,651\n",
            "Trainable params: 1,651\n",
            "Non-trainable params: 0\n",
            "_________________________________________________________________\n"
          ],
          "name": "stdout"
        }
      ]
    }
  ]
}